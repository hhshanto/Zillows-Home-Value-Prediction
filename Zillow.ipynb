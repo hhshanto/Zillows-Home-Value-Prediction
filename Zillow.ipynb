{
 "cells": [
  {
   "cell_type": "markdown",
   "id": "d4847965",
   "metadata": {},
   "source": [
    "# Zillow’s Home Value Prediction (Zestimate)"
   ]
  },
  {
   "cell_type": "markdown",
   "id": "d7aa1037",
   "metadata": {},
   "source": [
    "## Description"
   ]
  },
  {
   "cell_type": "markdown",
   "id": "3df66a53",
   "metadata": {},
   "source": [
    "Zillow’s Zestimate home valuation has shaken up the U.S. real estate industry since first released 11 years ago.\n",
    "\n",
    "A home is often the largest and most expensive purchase a person makes in his or her lifetime. Ensuring homeowners have a trusted way to monitor this asset is incredibly important. The Zestimate was created to give consumers as much information as possible about homes and the housing market, marking the first time consumers had access to this type of home value information at no cost.\n",
    "\n",
    "“Zestimates” are estimated home values based on 7.5 million statistical and machine learning models that analyze hundreds of data points on each property. And, by continually improving the median margin of error (from 14% at the onset to 5% today), Zillow has since become established as one of the largest, most trusted marketplaces for real estate information in the U.S. and a leading example of impactful machine learning.\n",
    "\n",
    "Zillow Prize, a competition with a one million dollar grand prize, is challenging the data science community to help push the accuracy of the Zestimate even further. Winning algorithms stand to impact the home values of 110M homes across the U.S.\n",
    "\n",
    "In this million-dollar competition, participants will develop an algorithm that makes predictions about the future sale prices of homes. The contest is structured into two rounds, the qualifying round which opens May 24, 2017 and the private round for the 100 top qualifying teams that opens on Feb 1st, 2018. In the qualifying round, you’ll be building a model to improve the Zestimate residual error. In the final round, you’ll build a home valuation algorithm from the ground up, using external data sources to help engineer new features that give your model an edge over the competition.\n",
    "\n",
    "Because real estate transaction data is public information, there will be a three-month sales tracking period after each competition round closes where your predictions will be evaluated against the actual sale prices of the homes. The final leaderboard won’t be revealed until the close of the sales tracking period."
   ]
  },
  {
   "cell_type": "markdown",
   "id": "8e2ab60d",
   "metadata": {},
   "source": [
    "`Link`: https://www.kaggle.com/competitions/zillow-prize-1/overview"
   ]
  },
  {
   "cell_type": "markdown",
   "id": "72c473cb",
   "metadata": {},
   "source": [
    "## Evaluation: \n",
    "Submissions are evaluated on Mean Absolute Error between the predicted log error and the actual log error.\n",
    "The log error is defined as   \n",
    "**logerror = log(Zestimate) - log(SalePrice)**\n"
   ]
  },
  {
   "cell_type": "markdown",
   "id": "7fd70acd",
   "metadata": {},
   "source": [
    "## Dataset Description:\n",
    "`Train/Test split`\n",
    "\n",
    "There are full list of real estate properties in three counties (Los Angeles, Orange and Ventura, California) data in 2016.\n",
    "\n",
    "The train data has all the transactions before October 15, 2016, plus some of the transactions after October 15, 2016.\n",
    "\n",
    "The test data in the public leaderboard has the rest of the transactions between October 15 and December 31, 2016.\n",
    "\n",
    "The rest of the test data, which is used for calculating the private leaderboard, is all the properties in October 15, 2017, to December 15, 2017. This period is called the \"sales tracking period\", during which we will not be taking any submissions.\n",
    "\n",
    "We have to predict 6 time points for all properties: October 2016 (201610), November 2016 (201611), December 2016 (201612), October 2017 (201710), November 2017 (201711), and December 2017 (201712).\n",
    "\n",
    "Not all the properties are sold in each time period. If a property was not sold in a certain time period, that particular row will be ignored when calculating score.\n",
    "\n",
    "If a property is sold multiple times within 31 days, we take the first reasonable value as the ground truth. By \"reasonable\", we mean if the data seems wrong, we will take the transaction that has a value that makes more sense."
   ]
  },
  {
   "cell_type": "markdown",
   "id": "42f58412",
   "metadata": {},
   "source": [
    "## File description:\n",
    "**properties_2016.csv** - all the properties with their home features for 2016. Note: Some 2017 new properties don't have any data yet except for their parcelid's. Those data points should be populated when properties_2017.csv is available.  \n",
    "**properties_2017.csv** - all the properties with their home features for 2017 (released on 10/2/2017)  \n",
    "**train_2016.csv** - the training set with transactions from 1/1/2016 to 12/31/2016  \n",
    "**train_2017.csv** - the training set with transactions from 1/1/2017 to 9/15/2017 (released on 10/2/2017)  \n",
    "**sample_submission.csv** - a sample submission file in the correct format"
   ]
  },
  {
   "cell_type": "code",
   "execution_count": 1,
   "id": "0770d1bd",
   "metadata": {
    "scrolled": true
   },
   "outputs": [
    {
     "name": "stdout",
     "output_type": "stream",
     "text": [
      "../Zillows-Home-Value-Prediction/Data\\properties_2016.csv\n",
      "../Zillows-Home-Value-Prediction/Data\\properties_2017.csv\n",
      "../Zillows-Home-Value-Prediction/Data\\sample_submission.csv\n",
      "../Zillows-Home-Value-Prediction/Data\\train_2016_v2.csv\n",
      "../Zillows-Home-Value-Prediction/Data\\train_2017.csv\n",
      "../Zillows-Home-Value-Prediction/Data\\zillow-prize-1.zip\n",
      "../Zillows-Home-Value-Prediction/Data\\zillow_data_dictionary.xlsx\n"
     ]
    }
   ],
   "source": [
    "# Import necessary librairies\n",
    "import gc \n",
    "import numpy as np # linear algebra\n",
    "from numpy import hstack\n",
    "from numpy import array\n",
    "import pandas as pd # data processing, CSV file I/O (e.g. pd.read_csv)\n",
    "import matplotlib.pyplot as plt  # Matlab-style plotting\n",
    "import seaborn as sns\n",
    "color = sns.color_palette()\n",
    "sns.set_style('darkgrid')\n",
    "\n",
    "# Datetime operations\n",
    "import time\n",
    "\n",
    "from scipy import stats\n",
    "from scipy.stats import norm, skew #for some statistics\n",
    "\n",
    "# Definitions\n",
    "pd.set_option('display.float_format', lambda x: '{:.3f}'.format(x)) #Limiting floats output to 3 decimal points\n",
    "pd.set_option('display.max_columns', 100)    #Display upto 100 columns \n",
    "pd.set_option('display.max_rows', 100) \n",
    "%matplotlib inline\n",
    "\n",
    "# Check the files available in the directory\n",
    "import os\n",
    "for dirname, _, filenames in os.walk('../Zillows-Home-Value-Prediction/Data'):\n",
    "    for filename in filenames:\n",
    "        print(os.path.join(dirname, filename))\n",
    "\n",
    "# Suppress warnings \n",
    "import warnings\n",
    "warnings.filterwarnings('ignore')   "
   ]
  },
  {
   "cell_type": "markdown",
   "id": "98258310",
   "metadata": {},
   "source": [
    "## Importing Datasets"
   ]
  },
  {
   "cell_type": "code",
   "execution_count": 2,
   "id": "8287b429",
   "metadata": {},
   "outputs": [],
   "source": [
    "import os\n",
    "\n",
    "HOUSING_PATH = os.path.join(\"..\", \"Zillows-Home-Value-Prediction\", \"Data\")\n",
    "PROPERTIES_2016 = 'properties_2016.csv'\n",
    "PROPERTIES_2017 = 'properties_2017.csv'\n",
    "TRAIN_2016 = 'train_2016_v2.csv'\n",
    "TRAIN_2017 = 'train_2017.csv'\n",
    "\n",
    "def load_housing_data(housing_path=HOUSING_PATH):\n",
    "    properties_2016 = pd.read_csv(os.path.join(housing_path, PROPERTIES_2016))\n",
    "    properties_2017 = pd.read_csv(os.path.join(housing_path, PROPERTIES_2017))\n",
    "    train_2016 = pd.read_csv(os.path.join(housing_path, TRAIN_2016))\n",
    "    train_2017 = pd.read_csv(os.path.join(housing_path, TRAIN_2017))\n",
    "\n",
    "    # Left join will ignore all properties that do not have a logerror (target variable) associated with them\n",
    "    train_2016 = pd.merge(train_2016, properties_2016, how = 'left', on = 'parcelid')\n",
    "    train_2017 = pd.merge(train_2017, properties_2017, how = 'left', on = 'parcelid')\n",
    "    \n",
    "    # Union data for 2016 and 2017 into one dataframe\n",
    "    all_properties = pd.concat([properties_2016, properties_2017], ignore_index=True)\n",
    "    all_training = pd.concat([train_2016, train_2017], ignore_index=True)\n",
    "    return all_properties, all_training"
   ]
  },
  {
   "cell_type": "code",
   "execution_count": 3,
   "id": "31bcac49",
   "metadata": {},
   "outputs": [
    {
     "data": {
      "text/html": [
       "<div>\n",
       "<style scoped>\n",
       "    .dataframe tbody tr th:only-of-type {\n",
       "        vertical-align: middle;\n",
       "    }\n",
       "\n",
       "    .dataframe tbody tr th {\n",
       "        vertical-align: top;\n",
       "    }\n",
       "\n",
       "    .dataframe thead th {\n",
       "        text-align: right;\n",
       "    }\n",
       "</style>\n",
       "<table border=\"1\" class=\"dataframe\">\n",
       "  <thead>\n",
       "    <tr style=\"text-align: right;\">\n",
       "      <th></th>\n",
       "      <th>parcelid</th>\n",
       "      <th>logerror</th>\n",
       "      <th>transactiondate</th>\n",
       "      <th>airconditioningtypeid</th>\n",
       "      <th>architecturalstyletypeid</th>\n",
       "      <th>basementsqft</th>\n",
       "      <th>bathroomcnt</th>\n",
       "      <th>bedroomcnt</th>\n",
       "      <th>buildingclasstypeid</th>\n",
       "      <th>buildingqualitytypeid</th>\n",
       "      <th>calculatedbathnbr</th>\n",
       "      <th>decktypeid</th>\n",
       "      <th>finishedfloor1squarefeet</th>\n",
       "      <th>calculatedfinishedsquarefeet</th>\n",
       "      <th>finishedsquarefeet12</th>\n",
       "      <th>finishedsquarefeet13</th>\n",
       "      <th>finishedsquarefeet15</th>\n",
       "      <th>finishedsquarefeet50</th>\n",
       "      <th>finishedsquarefeet6</th>\n",
       "      <th>fips</th>\n",
       "      <th>fireplacecnt</th>\n",
       "      <th>fullbathcnt</th>\n",
       "      <th>garagecarcnt</th>\n",
       "      <th>garagetotalsqft</th>\n",
       "      <th>hashottuborspa</th>\n",
       "      <th>heatingorsystemtypeid</th>\n",
       "      <th>latitude</th>\n",
       "      <th>longitude</th>\n",
       "      <th>lotsizesquarefeet</th>\n",
       "      <th>poolcnt</th>\n",
       "      <th>poolsizesum</th>\n",
       "      <th>pooltypeid10</th>\n",
       "      <th>pooltypeid2</th>\n",
       "      <th>pooltypeid7</th>\n",
       "      <th>propertycountylandusecode</th>\n",
       "      <th>propertylandusetypeid</th>\n",
       "      <th>propertyzoningdesc</th>\n",
       "      <th>rawcensustractandblock</th>\n",
       "      <th>regionidcity</th>\n",
       "      <th>regionidcounty</th>\n",
       "      <th>regionidneighborhood</th>\n",
       "      <th>regionidzip</th>\n",
       "      <th>roomcnt</th>\n",
       "      <th>storytypeid</th>\n",
       "      <th>threequarterbathnbr</th>\n",
       "      <th>typeconstructiontypeid</th>\n",
       "      <th>unitcnt</th>\n",
       "      <th>yardbuildingsqft17</th>\n",
       "      <th>yardbuildingsqft26</th>\n",
       "      <th>yearbuilt</th>\n",
       "      <th>numberofstories</th>\n",
       "      <th>fireplaceflag</th>\n",
       "      <th>structuretaxvaluedollarcnt</th>\n",
       "      <th>taxvaluedollarcnt</th>\n",
       "      <th>assessmentyear</th>\n",
       "      <th>landtaxvaluedollarcnt</th>\n",
       "      <th>taxamount</th>\n",
       "      <th>taxdelinquencyflag</th>\n",
       "      <th>taxdelinquencyyear</th>\n",
       "      <th>censustractandblock</th>\n",
       "    </tr>\n",
       "  </thead>\n",
       "  <tbody>\n",
       "    <tr>\n",
       "      <th>0</th>\n",
       "      <td>11016594</td>\n",
       "      <td>0.028</td>\n",
       "      <td>2016-01-01</td>\n",
       "      <td>1.000</td>\n",
       "      <td>NaN</td>\n",
       "      <td>NaN</td>\n",
       "      <td>2.000</td>\n",
       "      <td>3.000</td>\n",
       "      <td>NaN</td>\n",
       "      <td>4.000</td>\n",
       "      <td>2.000</td>\n",
       "      <td>NaN</td>\n",
       "      <td>NaN</td>\n",
       "      <td>1684.000</td>\n",
       "      <td>1684.000</td>\n",
       "      <td>NaN</td>\n",
       "      <td>NaN</td>\n",
       "      <td>NaN</td>\n",
       "      <td>NaN</td>\n",
       "      <td>6037.000</td>\n",
       "      <td>NaN</td>\n",
       "      <td>2.000</td>\n",
       "      <td>NaN</td>\n",
       "      <td>NaN</td>\n",
       "      <td>NaN</td>\n",
       "      <td>2.000</td>\n",
       "      <td>34280990.000</td>\n",
       "      <td>-118488536.000</td>\n",
       "      <td>7528.000</td>\n",
       "      <td>NaN</td>\n",
       "      <td>NaN</td>\n",
       "      <td>NaN</td>\n",
       "      <td>NaN</td>\n",
       "      <td>NaN</td>\n",
       "      <td>0100</td>\n",
       "      <td>261.000</td>\n",
       "      <td>LARS</td>\n",
       "      <td>60371066.461</td>\n",
       "      <td>12447.000</td>\n",
       "      <td>3101.000</td>\n",
       "      <td>31817.000</td>\n",
       "      <td>96370.000</td>\n",
       "      <td>0.000</td>\n",
       "      <td>NaN</td>\n",
       "      <td>NaN</td>\n",
       "      <td>NaN</td>\n",
       "      <td>1.000</td>\n",
       "      <td>NaN</td>\n",
       "      <td>NaN</td>\n",
       "      <td>1959.000</td>\n",
       "      <td>NaN</td>\n",
       "      <td>NaN</td>\n",
       "      <td>122754.000</td>\n",
       "      <td>360170.000</td>\n",
       "      <td>2015.000</td>\n",
       "      <td>237416.000</td>\n",
       "      <td>6735.880</td>\n",
       "      <td>NaN</td>\n",
       "      <td>NaN</td>\n",
       "      <td>60371066461001.000</td>\n",
       "    </tr>\n",
       "    <tr>\n",
       "      <th>1</th>\n",
       "      <td>14366692</td>\n",
       "      <td>-0.168</td>\n",
       "      <td>2016-01-01</td>\n",
       "      <td>NaN</td>\n",
       "      <td>NaN</td>\n",
       "      <td>NaN</td>\n",
       "      <td>3.500</td>\n",
       "      <td>4.000</td>\n",
       "      <td>NaN</td>\n",
       "      <td>NaN</td>\n",
       "      <td>3.500</td>\n",
       "      <td>NaN</td>\n",
       "      <td>NaN</td>\n",
       "      <td>2263.000</td>\n",
       "      <td>2263.000</td>\n",
       "      <td>NaN</td>\n",
       "      <td>NaN</td>\n",
       "      <td>NaN</td>\n",
       "      <td>NaN</td>\n",
       "      <td>6059.000</td>\n",
       "      <td>NaN</td>\n",
       "      <td>3.000</td>\n",
       "      <td>2.000</td>\n",
       "      <td>468.000</td>\n",
       "      <td>NaN</td>\n",
       "      <td>NaN</td>\n",
       "      <td>33668120.000</td>\n",
       "      <td>-117677556.000</td>\n",
       "      <td>3643.000</td>\n",
       "      <td>NaN</td>\n",
       "      <td>NaN</td>\n",
       "      <td>NaN</td>\n",
       "      <td>NaN</td>\n",
       "      <td>NaN</td>\n",
       "      <td>1</td>\n",
       "      <td>261.000</td>\n",
       "      <td>NaN</td>\n",
       "      <td>60590524.222</td>\n",
       "      <td>32380.000</td>\n",
       "      <td>1286.000</td>\n",
       "      <td>NaN</td>\n",
       "      <td>96962.000</td>\n",
       "      <td>0.000</td>\n",
       "      <td>NaN</td>\n",
       "      <td>1.000</td>\n",
       "      <td>NaN</td>\n",
       "      <td>NaN</td>\n",
       "      <td>NaN</td>\n",
       "      <td>NaN</td>\n",
       "      <td>2014.000</td>\n",
       "      <td>NaN</td>\n",
       "      <td>NaN</td>\n",
       "      <td>346458.000</td>\n",
       "      <td>585529.000</td>\n",
       "      <td>2015.000</td>\n",
       "      <td>239071.000</td>\n",
       "      <td>10153.020</td>\n",
       "      <td>NaN</td>\n",
       "      <td>NaN</td>\n",
       "      <td>NaN</td>\n",
       "    </tr>\n",
       "    <tr>\n",
       "      <th>2</th>\n",
       "      <td>12098116</td>\n",
       "      <td>-0.004</td>\n",
       "      <td>2016-01-01</td>\n",
       "      <td>1.000</td>\n",
       "      <td>NaN</td>\n",
       "      <td>NaN</td>\n",
       "      <td>3.000</td>\n",
       "      <td>2.000</td>\n",
       "      <td>NaN</td>\n",
       "      <td>4.000</td>\n",
       "      <td>3.000</td>\n",
       "      <td>NaN</td>\n",
       "      <td>NaN</td>\n",
       "      <td>2217.000</td>\n",
       "      <td>2217.000</td>\n",
       "      <td>NaN</td>\n",
       "      <td>NaN</td>\n",
       "      <td>NaN</td>\n",
       "      <td>NaN</td>\n",
       "      <td>6037.000</td>\n",
       "      <td>NaN</td>\n",
       "      <td>3.000</td>\n",
       "      <td>NaN</td>\n",
       "      <td>NaN</td>\n",
       "      <td>NaN</td>\n",
       "      <td>2.000</td>\n",
       "      <td>34136312.000</td>\n",
       "      <td>-118175032.000</td>\n",
       "      <td>11423.000</td>\n",
       "      <td>NaN</td>\n",
       "      <td>NaN</td>\n",
       "      <td>NaN</td>\n",
       "      <td>NaN</td>\n",
       "      <td>NaN</td>\n",
       "      <td>0100</td>\n",
       "      <td>261.000</td>\n",
       "      <td>PSR6</td>\n",
       "      <td>60374638.003</td>\n",
       "      <td>47019.000</td>\n",
       "      <td>3101.000</td>\n",
       "      <td>275411.000</td>\n",
       "      <td>96293.000</td>\n",
       "      <td>0.000</td>\n",
       "      <td>NaN</td>\n",
       "      <td>NaN</td>\n",
       "      <td>NaN</td>\n",
       "      <td>1.000</td>\n",
       "      <td>NaN</td>\n",
       "      <td>NaN</td>\n",
       "      <td>1940.000</td>\n",
       "      <td>NaN</td>\n",
       "      <td>NaN</td>\n",
       "      <td>61994.000</td>\n",
       "      <td>119906.000</td>\n",
       "      <td>2015.000</td>\n",
       "      <td>57912.000</td>\n",
       "      <td>11484.480</td>\n",
       "      <td>NaN</td>\n",
       "      <td>NaN</td>\n",
       "      <td>60374638003004.000</td>\n",
       "    </tr>\n",
       "    <tr>\n",
       "      <th>3</th>\n",
       "      <td>12643413</td>\n",
       "      <td>0.022</td>\n",
       "      <td>2016-01-02</td>\n",
       "      <td>1.000</td>\n",
       "      <td>NaN</td>\n",
       "      <td>NaN</td>\n",
       "      <td>2.000</td>\n",
       "      <td>2.000</td>\n",
       "      <td>NaN</td>\n",
       "      <td>4.000</td>\n",
       "      <td>2.000</td>\n",
       "      <td>NaN</td>\n",
       "      <td>NaN</td>\n",
       "      <td>839.000</td>\n",
       "      <td>839.000</td>\n",
       "      <td>NaN</td>\n",
       "      <td>NaN</td>\n",
       "      <td>NaN</td>\n",
       "      <td>NaN</td>\n",
       "      <td>6037.000</td>\n",
       "      <td>NaN</td>\n",
       "      <td>2.000</td>\n",
       "      <td>NaN</td>\n",
       "      <td>NaN</td>\n",
       "      <td>NaN</td>\n",
       "      <td>2.000</td>\n",
       "      <td>33755800.000</td>\n",
       "      <td>-118309000.000</td>\n",
       "      <td>70859.000</td>\n",
       "      <td>NaN</td>\n",
       "      <td>NaN</td>\n",
       "      <td>NaN</td>\n",
       "      <td>NaN</td>\n",
       "      <td>NaN</td>\n",
       "      <td>010C</td>\n",
       "      <td>266.000</td>\n",
       "      <td>LAR3</td>\n",
       "      <td>60372963.002</td>\n",
       "      <td>12447.000</td>\n",
       "      <td>3101.000</td>\n",
       "      <td>54300.000</td>\n",
       "      <td>96222.000</td>\n",
       "      <td>0.000</td>\n",
       "      <td>NaN</td>\n",
       "      <td>NaN</td>\n",
       "      <td>NaN</td>\n",
       "      <td>1.000</td>\n",
       "      <td>NaN</td>\n",
       "      <td>NaN</td>\n",
       "      <td>1987.000</td>\n",
       "      <td>NaN</td>\n",
       "      <td>NaN</td>\n",
       "      <td>171518.000</td>\n",
       "      <td>244880.000</td>\n",
       "      <td>2015.000</td>\n",
       "      <td>73362.000</td>\n",
       "      <td>3048.740</td>\n",
       "      <td>NaN</td>\n",
       "      <td>NaN</td>\n",
       "      <td>60372963002002.000</td>\n",
       "    </tr>\n",
       "    <tr>\n",
       "      <th>4</th>\n",
       "      <td>14432541</td>\n",
       "      <td>-0.005</td>\n",
       "      <td>2016-01-02</td>\n",
       "      <td>NaN</td>\n",
       "      <td>NaN</td>\n",
       "      <td>NaN</td>\n",
       "      <td>2.500</td>\n",
       "      <td>4.000</td>\n",
       "      <td>NaN</td>\n",
       "      <td>NaN</td>\n",
       "      <td>2.500</td>\n",
       "      <td>NaN</td>\n",
       "      <td>NaN</td>\n",
       "      <td>2283.000</td>\n",
       "      <td>2283.000</td>\n",
       "      <td>NaN</td>\n",
       "      <td>NaN</td>\n",
       "      <td>NaN</td>\n",
       "      <td>NaN</td>\n",
       "      <td>6059.000</td>\n",
       "      <td>NaN</td>\n",
       "      <td>2.000</td>\n",
       "      <td>2.000</td>\n",
       "      <td>598.000</td>\n",
       "      <td>NaN</td>\n",
       "      <td>NaN</td>\n",
       "      <td>33485643.000</td>\n",
       "      <td>-117700234.000</td>\n",
       "      <td>6000.000</td>\n",
       "      <td>1.000</td>\n",
       "      <td>NaN</td>\n",
       "      <td>NaN</td>\n",
       "      <td>NaN</td>\n",
       "      <td>1.000</td>\n",
       "      <td>122</td>\n",
       "      <td>261.000</td>\n",
       "      <td>NaN</td>\n",
       "      <td>60590423.381</td>\n",
       "      <td>17686.000</td>\n",
       "      <td>1286.000</td>\n",
       "      <td>NaN</td>\n",
       "      <td>96961.000</td>\n",
       "      <td>8.000</td>\n",
       "      <td>NaN</td>\n",
       "      <td>1.000</td>\n",
       "      <td>NaN</td>\n",
       "      <td>NaN</td>\n",
       "      <td>NaN</td>\n",
       "      <td>NaN</td>\n",
       "      <td>1981.000</td>\n",
       "      <td>2.000</td>\n",
       "      <td>NaN</td>\n",
       "      <td>169574.000</td>\n",
       "      <td>434551.000</td>\n",
       "      <td>2015.000</td>\n",
       "      <td>264977.000</td>\n",
       "      <td>5488.960</td>\n",
       "      <td>NaN</td>\n",
       "      <td>NaN</td>\n",
       "      <td>60590423381006.000</td>\n",
       "    </tr>\n",
       "  </tbody>\n",
       "</table>\n",
       "</div>"
      ],
      "text/plain": [
       "   parcelid  logerror transactiondate  airconditioningtypeid  \\\n",
       "0  11016594     0.028      2016-01-01                  1.000   \n",
       "1  14366692    -0.168      2016-01-01                    NaN   \n",
       "2  12098116    -0.004      2016-01-01                  1.000   \n",
       "3  12643413     0.022      2016-01-02                  1.000   \n",
       "4  14432541    -0.005      2016-01-02                    NaN   \n",
       "\n",
       "   architecturalstyletypeid  basementsqft  bathroomcnt  bedroomcnt  \\\n",
       "0                       NaN           NaN        2.000       3.000   \n",
       "1                       NaN           NaN        3.500       4.000   \n",
       "2                       NaN           NaN        3.000       2.000   \n",
       "3                       NaN           NaN        2.000       2.000   \n",
       "4                       NaN           NaN        2.500       4.000   \n",
       "\n",
       "   buildingclasstypeid  buildingqualitytypeid  calculatedbathnbr  decktypeid  \\\n",
       "0                  NaN                  4.000              2.000         NaN   \n",
       "1                  NaN                    NaN              3.500         NaN   \n",
       "2                  NaN                  4.000              3.000         NaN   \n",
       "3                  NaN                  4.000              2.000         NaN   \n",
       "4                  NaN                    NaN              2.500         NaN   \n",
       "\n",
       "   finishedfloor1squarefeet  calculatedfinishedsquarefeet  \\\n",
       "0                       NaN                      1684.000   \n",
       "1                       NaN                      2263.000   \n",
       "2                       NaN                      2217.000   \n",
       "3                       NaN                       839.000   \n",
       "4                       NaN                      2283.000   \n",
       "\n",
       "   finishedsquarefeet12  finishedsquarefeet13  finishedsquarefeet15  \\\n",
       "0              1684.000                   NaN                   NaN   \n",
       "1              2263.000                   NaN                   NaN   \n",
       "2              2217.000                   NaN                   NaN   \n",
       "3               839.000                   NaN                   NaN   \n",
       "4              2283.000                   NaN                   NaN   \n",
       "\n",
       "   finishedsquarefeet50  finishedsquarefeet6     fips  fireplacecnt  \\\n",
       "0                   NaN                  NaN 6037.000           NaN   \n",
       "1                   NaN                  NaN 6059.000           NaN   \n",
       "2                   NaN                  NaN 6037.000           NaN   \n",
       "3                   NaN                  NaN 6037.000           NaN   \n",
       "4                   NaN                  NaN 6059.000           NaN   \n",
       "\n",
       "   fullbathcnt  garagecarcnt  garagetotalsqft hashottuborspa  \\\n",
       "0        2.000           NaN              NaN            NaN   \n",
       "1        3.000         2.000          468.000            NaN   \n",
       "2        3.000           NaN              NaN            NaN   \n",
       "3        2.000           NaN              NaN            NaN   \n",
       "4        2.000         2.000          598.000            NaN   \n",
       "\n",
       "   heatingorsystemtypeid     latitude      longitude  lotsizesquarefeet  \\\n",
       "0                  2.000 34280990.000 -118488536.000           7528.000   \n",
       "1                    NaN 33668120.000 -117677556.000           3643.000   \n",
       "2                  2.000 34136312.000 -118175032.000          11423.000   \n",
       "3                  2.000 33755800.000 -118309000.000          70859.000   \n",
       "4                    NaN 33485643.000 -117700234.000           6000.000   \n",
       "\n",
       "   poolcnt  poolsizesum  pooltypeid10  pooltypeid2  pooltypeid7  \\\n",
       "0      NaN          NaN           NaN          NaN          NaN   \n",
       "1      NaN          NaN           NaN          NaN          NaN   \n",
       "2      NaN          NaN           NaN          NaN          NaN   \n",
       "3      NaN          NaN           NaN          NaN          NaN   \n",
       "4    1.000          NaN           NaN          NaN        1.000   \n",
       "\n",
       "  propertycountylandusecode  propertylandusetypeid propertyzoningdesc  \\\n",
       "0                      0100                261.000               LARS   \n",
       "1                         1                261.000                NaN   \n",
       "2                      0100                261.000               PSR6   \n",
       "3                      010C                266.000               LAR3   \n",
       "4                       122                261.000                NaN   \n",
       "\n",
       "   rawcensustractandblock  regionidcity  regionidcounty  regionidneighborhood  \\\n",
       "0            60371066.461     12447.000        3101.000             31817.000   \n",
       "1            60590524.222     32380.000        1286.000                   NaN   \n",
       "2            60374638.003     47019.000        3101.000            275411.000   \n",
       "3            60372963.002     12447.000        3101.000             54300.000   \n",
       "4            60590423.381     17686.000        1286.000                   NaN   \n",
       "\n",
       "   regionidzip  roomcnt  storytypeid  threequarterbathnbr  \\\n",
       "0    96370.000    0.000          NaN                  NaN   \n",
       "1    96962.000    0.000          NaN                1.000   \n",
       "2    96293.000    0.000          NaN                  NaN   \n",
       "3    96222.000    0.000          NaN                  NaN   \n",
       "4    96961.000    8.000          NaN                1.000   \n",
       "\n",
       "   typeconstructiontypeid  unitcnt  yardbuildingsqft17  yardbuildingsqft26  \\\n",
       "0                     NaN    1.000                 NaN                 NaN   \n",
       "1                     NaN      NaN                 NaN                 NaN   \n",
       "2                     NaN    1.000                 NaN                 NaN   \n",
       "3                     NaN    1.000                 NaN                 NaN   \n",
       "4                     NaN      NaN                 NaN                 NaN   \n",
       "\n",
       "   yearbuilt  numberofstories fireplaceflag  structuretaxvaluedollarcnt  \\\n",
       "0   1959.000              NaN           NaN                  122754.000   \n",
       "1   2014.000              NaN           NaN                  346458.000   \n",
       "2   1940.000              NaN           NaN                   61994.000   \n",
       "3   1987.000              NaN           NaN                  171518.000   \n",
       "4   1981.000            2.000           NaN                  169574.000   \n",
       "\n",
       "   taxvaluedollarcnt  assessmentyear  landtaxvaluedollarcnt  taxamount  \\\n",
       "0         360170.000        2015.000             237416.000   6735.880   \n",
       "1         585529.000        2015.000             239071.000  10153.020   \n",
       "2         119906.000        2015.000              57912.000  11484.480   \n",
       "3         244880.000        2015.000              73362.000   3048.740   \n",
       "4         434551.000        2015.000             264977.000   5488.960   \n",
       "\n",
       "  taxdelinquencyflag  taxdelinquencyyear  censustractandblock  \n",
       "0                NaN                 NaN   60371066461001.000  \n",
       "1                NaN                 NaN                  NaN  \n",
       "2                NaN                 NaN   60374638003004.000  \n",
       "3                NaN                 NaN   60372963002002.000  \n",
       "4                NaN                 NaN   60590423381006.000  "
      ]
     },
     "execution_count": 3,
     "metadata": {},
     "output_type": "execute_result"
    }
   ],
   "source": [
    "all_properties, housing = load_housing_data()\n",
    "housing.head()"
   ]
  },
  {
   "cell_type": "code",
   "execution_count": 4,
   "id": "5f946d48",
   "metadata": {},
   "outputs": [
    {
     "name": "stdout",
     "output_type": "stream",
     "text": [
      "Time taken: 8.551473617553711\n"
     ]
    }
   ],
   "source": [
    "#checking the time to read data\n",
    "start = time.time()\n",
    "tempDf = pd.read_csv('../Zillows-Home-Value-Prediction/Data/properties_2016.csv')\n",
    "train = pd.read_csv(\"../Zillows-Home-Value-Prediction/Data/train_2016_v2.csv\", parse_dates=[\"transactiondate\"])\n",
    "dfTrain= train.merge(tempDf, how=\"left\", on = \"parcelid\")\n",
    "end= time.time()\n",
    "\n",
    "print(\"Time taken: {}\".format(end-start))"
   ]
  },
  {
   "cell_type": "code",
   "execution_count": 5,
   "id": "e2b537db",
   "metadata": {
    "scrolled": true
   },
   "outputs": [
    {
     "name": "stdout",
     "output_type": "stream",
     "text": [
      "<class 'pandas.core.frame.DataFrame'>\n",
      "RangeIndex: 90275 entries, 0 to 90274\n",
      "Columns: 3 entries, parcelid to transactiondate\n",
      "dtypes: datetime64[ns](1), float64(1), int64(1)\n",
      "memory usage: 2.1 MB\n",
      "<class 'pandas.core.frame.DataFrame'>\n",
      "RangeIndex: 2985217 entries, 0 to 2985216\n",
      "Columns: 58 entries, parcelid to censustractandblock\n",
      "dtypes: float64(52), int64(1), object(5)\n",
      "memory usage: 1.3+ GB\n"
     ]
    },
    {
     "data": {
      "text/plain": [
       "(None, None)"
      ]
     },
     "execution_count": 5,
     "metadata": {},
     "output_type": "execute_result"
    }
   ],
   "source": [
    "# Checking memory usage\n",
    "train.info(verbose=False), tempDf.info(verbose=False)\n",
    "\n"
   ]
  },
  {
   "cell_type": "markdown",
   "id": "34f611d3",
   "metadata": {},
   "source": [
    "Looks good"
   ]
  },
  {
   "cell_type": "code",
   "execution_count": 6,
   "id": "e479fa4e",
   "metadata": {},
   "outputs": [
    {
     "name": "stdout",
     "output_type": "stream",
     "text": [
      "The shape (5970434, 58)\n",
      "<class 'pandas.core.frame.DataFrame'>\n",
      "RangeIndex: 5970434 entries, 0 to 5970433\n",
      "Data columns (total 58 columns):\n",
      " #   Column                        Dtype  \n",
      "---  ------                        -----  \n",
      " 0   parcelid                      int64  \n",
      " 1   airconditioningtypeid         float64\n",
      " 2   architecturalstyletypeid      float64\n",
      " 3   basementsqft                  float64\n",
      " 4   bathroomcnt                   float64\n",
      " 5   bedroomcnt                    float64\n",
      " 6   buildingclasstypeid           float64\n",
      " 7   buildingqualitytypeid         float64\n",
      " 8   calculatedbathnbr             float64\n",
      " 9   decktypeid                    float64\n",
      " 10  finishedfloor1squarefeet      float64\n",
      " 11  calculatedfinishedsquarefeet  float64\n",
      " 12  finishedsquarefeet12          float64\n",
      " 13  finishedsquarefeet13          float64\n",
      " 14  finishedsquarefeet15          float64\n",
      " 15  finishedsquarefeet50          float64\n",
      " 16  finishedsquarefeet6           float64\n",
      " 17  fips                          float64\n",
      " 18  fireplacecnt                  float64\n",
      " 19  fullbathcnt                   float64\n",
      " 20  garagecarcnt                  float64\n",
      " 21  garagetotalsqft               float64\n",
      " 22  hashottuborspa                object \n",
      " 23  heatingorsystemtypeid         float64\n",
      " 24  latitude                      float64\n",
      " 25  longitude                     float64\n",
      " 26  lotsizesquarefeet             float64\n",
      " 27  poolcnt                       float64\n",
      " 28  poolsizesum                   float64\n",
      " 29  pooltypeid10                  float64\n",
      " 30  pooltypeid2                   float64\n",
      " 31  pooltypeid7                   float64\n",
      " 32  propertycountylandusecode     object \n",
      " 33  propertylandusetypeid         float64\n",
      " 34  propertyzoningdesc            object \n",
      " 35  rawcensustractandblock        float64\n",
      " 36  regionidcity                  float64\n",
      " 37  regionidcounty                float64\n",
      " 38  regionidneighborhood          float64\n",
      " 39  regionidzip                   float64\n",
      " 40  roomcnt                       float64\n",
      " 41  storytypeid                   float64\n",
      " 42  threequarterbathnbr           float64\n",
      " 43  typeconstructiontypeid        float64\n",
      " 44  unitcnt                       float64\n",
      " 45  yardbuildingsqft17            float64\n",
      " 46  yardbuildingsqft26            float64\n",
      " 47  yearbuilt                     float64\n",
      " 48  numberofstories               float64\n",
      " 49  fireplaceflag                 object \n",
      " 50  structuretaxvaluedollarcnt    float64\n",
      " 51  taxvaluedollarcnt             float64\n",
      " 52  assessmentyear                float64\n",
      " 53  landtaxvaluedollarcnt         float64\n",
      " 54  taxamount                     float64\n",
      " 55  taxdelinquencyflag            object \n",
      " 56  taxdelinquencyyear            float64\n",
      " 57  censustractandblock           float64\n",
      "dtypes: float64(52), int64(1), object(5)\n",
      "memory usage: 2.6+ GB\n"
     ]
    }
   ],
   "source": [
    "print(\"The shape {}\".format(all_properties.shape))\n",
    "\n",
    "all_properties.info()"
   ]
  },
  {
   "cell_type": "markdown",
   "id": "2a49f439",
   "metadata": {},
   "source": [
    "**Understanding:**  \n",
    "There are total 5970434 or 5.9 Million properties available in the file.  \n",
    "**Variable types distribution:** 53 Float64, 6 Object (Categorical) and 1 Integer (ParcelID)  \n"
   ]
  },
  {
   "cell_type": "markdown",
   "id": "6b6def14",
   "metadata": {},
   "source": [
    "Check the NaN value"
   ]
  },
  {
   "cell_type": "code",
   "execution_count": 7,
   "id": "da898f25",
   "metadata": {
    "scrolled": false
   },
   "outputs": [
    {
     "data": {
      "text/plain": [
       "parcelid                        0.000\n",
       "airconditioningtypeid          72.751\n",
       "architecturalstyletypeid       99.797\n",
       "basementsqft                   99.945\n",
       "bathroomcnt                     0.242\n",
       "bedroomcnt                      0.241\n",
       "buildingclasstypeid            99.575\n",
       "buildingqualitytypeid          35.015\n",
       "calculatedbathnbr               4.121\n",
       "decktypeid                     99.423\n",
       "finishedfloor1squarefeet       93.192\n",
       "calculatedfinishedsquarefeet    1.686\n",
       "finishedsquarefeet12            9.052\n",
       "finishedsquarefeet13           99.743\n",
       "finishedsquarefeet15           93.619\n",
       "finishedsquarefeet50           93.192\n",
       "finishedsquarefeet6            99.272\n",
       "fips                            0.241\n",
       "fireplacecnt                   89.519\n",
       "fullbathcnt                     4.121\n",
       "garagecarcnt                   70.282\n",
       "garagetotalsqft                70.282\n",
       "hashottuborspa                 98.006\n",
       "heatingorsystemtypeid          38.437\n",
       "latitude                        0.241\n",
       "longitude                       0.241\n",
       "lotsizesquarefeet               9.192\n",
       "poolcnt                        82.293\n",
       "poolsizesum                    99.063\n",
       "pooltypeid10                   99.096\n",
       "pooltypeid2                    98.909\n",
       "pooltypeid7                    83.396\n",
       "propertycountylandusecode       0.256\n",
       "propertylandusetypeid           0.241\n",
       "propertyzoningdesc             33.655\n",
       "rawcensustractandblock          0.241\n",
       "regionidcity                    2.093\n",
       "regionidcounty                  0.241\n",
       "regionidneighborhood           61.257\n",
       "regionidzip                     0.447\n",
       "roomcnt                         0.242\n",
       "storytypeid                    99.946\n",
       "threequarterbathnbr            89.482\n",
       "typeconstructiontypeid         99.774\n",
       "unitcnt                        33.698\n",
       "yardbuildingsqft17             97.288\n",
       "yardbuildingsqft26             99.911\n",
       "yearbuilt                       1.805\n",
       "numberofstories                77.091\n",
       "fireplaceflag                  99.827\n",
       "structuretaxvaluedollarcnt      1.699\n",
       "taxvaluedollarcnt               1.287\n",
       "assessmentyear                  0.241\n",
       "landtaxvaluedollarcnt           2.138\n",
       "taxamount                       0.904\n",
       "taxdelinquencyflag             98.108\n",
       "taxdelinquencyyear             98.108\n",
       "censustractandblock             2.514\n",
       "dtype: float64"
      ]
     },
     "execution_count": 7,
     "metadata": {},
     "output_type": "execute_result"
    }
   ],
   "source": [
    "#all_properties.isna().sum()\n",
    "# Checking what percentage of every column is missing\n",
    "percent_missing = all_properties.isnull().sum() * 100 / len(all_properties)\n",
    "\n",
    "percent_missing"
   ]
  },
  {
   "cell_type": "code",
   "execution_count": 8,
   "id": "b6c1b752",
   "metadata": {},
   "outputs": [
    {
     "data": {
      "text/plain": [
       "20"
      ]
     },
     "execution_count": 8,
     "metadata": {},
     "output_type": "execute_result"
    }
   ],
   "source": [
    "moreThan90Per = percent_missing>90\n",
    "moreThan90Per.sum()"
   ]
  },
  {
   "cell_type": "markdown",
   "id": "0c8199d6",
   "metadata": {},
   "source": [
    "20 columns have more than 90% data missing  \n",
    "24 columns have more than 80% data missing  \n",
    "29 columns have more than 50% data missing"
   ]
  },
  {
   "cell_type": "code",
   "execution_count": null,
   "id": "0de4e7c2",
   "metadata": {},
   "outputs": [],
   "source": []
  },
  {
   "cell_type": "markdown",
   "id": "09671084",
   "metadata": {},
   "source": [
    "### Duplicate Data"
   ]
  },
  {
   "cell_type": "code",
   "execution_count": null,
   "id": "04489707",
   "metadata": {},
   "outputs": [],
   "source": []
  },
  {
   "cell_type": "code",
   "execution_count": 9,
   "id": "425b0a84",
   "metadata": {},
   "outputs": [
    {
     "data": {
      "text/plain": [
       "0         0.028\n",
       "1        -0.168\n",
       "2        -0.004\n",
       "3         0.022\n",
       "4        -0.005\n",
       "          ...  \n",
       "167883   -0.002\n",
       "167884    0.021\n",
       "167885    0.013\n",
       "167886    0.037\n",
       "167887    0.007\n",
       "Name: logerror, Length: 167888, dtype: float64"
      ]
     },
     "execution_count": 9,
     "metadata": {},
     "output_type": "execute_result"
    }
   ],
   "source": [
    "y = housing.logerror\n",
    "y"
   ]
  },
  {
   "cell_type": "code",
   "execution_count": 10,
   "id": "27cff14e",
   "metadata": {
    "scrolled": true
   },
   "outputs": [
    {
     "data": {
      "image/png": "[encoded data removed]",
      "text/plain": [
       "<Figure size 576x360 with 1 Axes>"
      ]
     },
     "metadata": {
      "needs_background": "light"
     },
     "output_type": "display_data"
    }
   ],
   "source": [
    "y.hist(bins=100, figsize=(8,5))\n",
    "plt.show()"
   ]
  },
  {
   "cell_type": "code",
   "execution_count": 11,
   "id": "39f3ae00",
   "metadata": {},
   "outputs": [
    {
     "data": {
      "text/plain": [
       "count   167888.000\n",
       "mean         0.014\n",
       "std          0.166\n",
       "min         -4.655\n",
       "25%         -0.025\n",
       "50%          0.006\n",
       "75%          0.039\n",
       "max          5.263\n",
       "Name: logerror, dtype: float64"
      ]
     },
     "execution_count": 11,
     "metadata": {},
     "output_type": "execute_result"
    }
   ],
   "source": [
    "y.describe()"
   ]
  },
  {
   "cell_type": "code",
   "execution_count": 12,
   "id": "fdaab219",
   "metadata": {},
   "outputs": [
    {
     "name": "stdout",
     "output_type": "stream",
     "text": [
      "\n",
      " mu = 0.01 and sigma = 0.17\n",
      "\n"
     ]
    },
    {
     "data": {
      "image/png": "[encoded data removed]",
      "text/plain": [
       "<Figure size 432x288 with 1 Axes>"
      ]
     },
     "metadata": {
      "needs_background": "light"
     },
     "output_type": "display_data"
    },
    {
     "data": {
      "image/png": "[encoded data removed]",
      "text/plain": [
       "<Figure size 432x288 with 1 Axes>"
      ]
     },
     "metadata": {
      "needs_background": "light"
     },
     "output_type": "display_data"
    }
   ],
   "source": [
    "sns.distplot(y , fit=norm);\n",
    "\n",
    "# Get the fitted parameters used by the function\n",
    "(mu, sigma) = norm.fit(y)\n",
    "print( '\\n mu = {:.2f} and sigma = {:.2f}\\n'.format(mu, sigma))\n",
    "\n",
    "#Now plot the distribution\n",
    "plt.legend(['Normal dist. ($\\mu=$ {:.2f} and $\\sigma=$ {:.2f} )'.format(mu, sigma)],\n",
    "            loc='best')\n",
    "plt.ylabel('Frequency')\n",
    "plt.title('LogError distribution')\n",
    "\n",
    "#Get also the QQ-plot\n",
    "fig = plt.figure()\n",
    "res = stats.probplot(y, plot=plt)\n",
    "plt.show()"
   ]
  },
  {
   "cell_type": "code",
   "execution_count": 13,
   "id": "9a5c0866",
   "metadata": {},
   "outputs": [
    {
     "name": "stdout",
     "output_type": "stream",
     "text": [
      "Highest allowed 0.42817114871087414\n",
      "Lowest allowed -0.400358536368391\n"
     ]
    }
   ],
   "source": [
    "highest_thres = y.mean() + 2.5*y.std()\n",
    "lowest_thres = y.mean() - 2.5*y.std()\n",
    "print(\"Highest allowed\",highest_thres)\n",
    "print(\"Lowest allowed\", lowest_thres)"
   ]
  },
  {
   "cell_type": "code",
   "execution_count": 14,
   "id": "79ec0416",
   "metadata": {},
   "outputs": [],
   "source": [
    "# Only the training set outliers will be dropped (not validation or testing set to ensure model performs well on outliers too)\n",
    "y = y[y > lowest_thres]\n",
    "y = y[y < highest_thres]\n",
    "\n",
    "# Update original Housing dataframe \n",
    "housing = housing[housing.logerror > lowest_thres]\n",
    "housing = housing[housing.logerror < highest_thres]"
   ]
  },
  {
   "cell_type": "code",
   "execution_count": 15,
   "id": "9e9c0be0",
   "metadata": {},
   "outputs": [
    {
     "data": {
      "text/plain": [
       "(164538, 60)"
      ]
     },
     "execution_count": 15,
     "metadata": {},
     "output_type": "execute_result"
    }
   ],
   "source": [
    "# Drop rows containing either 75% or more NaN Values\n",
    "percent = 75.0 \n",
    "min_count =  int(((100-percent)/100)*housing.shape[1] + 1)\n",
    "housing = housing.dropna(axis=0, thresh=min_count)\n",
    "housing.shape"
   ]
  },
  {
   "cell_type": "code",
   "execution_count": 16,
   "id": "789b57c9",
   "metadata": {},
   "outputs": [
    {
     "name": "stdout",
     "output_type": "stream",
     "text": [
      "Highest allowed 0.21763714717335889\n",
      "Lowest allowed -0.20059403149372554\n"
     ]
    }
   ],
   "source": [
    "highest_thres = y.mean() + 2.5*y.std()\n",
    "lowest_thres = y.mean() - 2.5*y.std()\n",
    "print(\"Highest allowed\",highest_thres)\n",
    "print(\"Lowest allowed\", lowest_thres)"
   ]
  },
  {
   "cell_type": "code",
   "execution_count": 17,
   "id": "fb843e30",
   "metadata": {},
   "outputs": [],
   "source": [
    "# Only the training set outliers will be dropped (not validation or testing set to ensure model performs well on outliers too)\n",
    "y = y[y > lowest_thres]\n",
    "y = y[y < highest_thres]\n",
    "\n",
    "# Update original Housing dataframe \n",
    "housing = housing[housing.logerror > lowest_thres]\n",
    "housing = housing[housing.logerror < highest_thres]"
   ]
  },
  {
   "cell_type": "code",
   "execution_count": 18,
   "id": "9f3ca7a3",
   "metadata": {},
   "outputs": [
    {
     "data": {
      "text/plain": [
       "(157763, 60)"
      ]
     },
     "execution_count": 18,
     "metadata": {},
     "output_type": "execute_result"
    }
   ],
   "source": [
    "# Drop rows containing either 75% or more NaN Values\n",
    "percent = 75.0 \n",
    "min_count =  int(((100-percent)/100)*housing.shape[1] + 1)\n",
    "housing = housing.dropna(axis=0, thresh=min_count)\n",
    "housing.shape"
   ]
  },
  {
   "cell_type": "code",
   "execution_count": 19,
   "id": "86c26092",
   "metadata": {},
   "outputs": [
    {
     "data": {
      "image/png": "[encoded data removed]",
      "text/plain": [
       "<Figure size 576x360 with 1 Axes>"
      ]
     },
     "metadata": {
      "needs_background": "light"
     },
     "output_type": "display_data"
    }
   ],
   "source": [
    "y.hist(bins=100, figsize=(8,5))\n",
    "plt.show()"
   ]
  },
  {
   "cell_type": "code",
   "execution_count": 20,
   "id": "9119b13a",
   "metadata": {},
   "outputs": [
    {
     "name": "stdout",
     "output_type": "stream",
     "text": [
      "\n",
      " mu = 0.01 and sigma = 0.06\n",
      "\n"
     ]
    },
    {
     "data": {
      "image/png": "[encoded data removed]",
      "text/plain": [
       "<Figure size 432x288 with 1 Axes>"
      ]
     },
     "metadata": {
      "needs_background": "light"
     },
     "output_type": "display_data"
    },
    {
     "data": {
      "image/png": "[encoded data removed]",
      "text/plain": [
       "<Figure size 432x288 with 1 Axes>"
      ]
     },
     "metadata": {
      "needs_background": "light"
     },
     "output_type": "display_data"
    }
   ],
   "source": [
    "#Check the new distribution \n",
    "sns.distplot(y , fit=norm);\n",
    "\n",
    "# Get the fitted parameters used by the function\n",
    "(mu, sigma) = norm.fit(y)\n",
    "print( '\\n mu = {:.2f} and sigma = {:.2f}\\n'.format(mu, sigma))\n",
    "\n",
    "#Now plot the distribution\n",
    "plt.legend(['Normal dist. ($\\mu=$ {:.2f} and $\\sigma=$ {:.2f} )'.format(mu, sigma)],\n",
    "            loc='best')\n",
    "plt.ylabel('Frequency')\n",
    "plt.title('LogError distribution')\n",
    "\n",
    "#Get also the QQ-plot\n",
    "fig = plt.figure()\n",
    "res = stats.probplot(y, plot=plt)\n",
    "plt.show()"
   ]
  },
  {
   "cell_type": "markdown",
   "id": "2cc7c45f",
   "metadata": {},
   "source": [
    "Create Test / Train Datasets\n",
    "To avoid data snooping bias by overfitting to the test set, we need to create a test set, put it aside and never look at it. The most basic solution is to pick some instances randomly, typically 20% of the dataset (or less if your dataset is very large), and set them aside.\n",
    "\n",
    "Issue with approach: If you run the program again, it will generate a different test set! Over time, you (or your Machine Learning algorithms) will get to see the whole dataset, which is what you want to avoid.\n",
    "Possible Solution: To have a stable train/test split even after updating the dataset, a common solution is to use each instance’s identifier to decide whether or not it should go in the test set (assuming instances have a unique and immutable identifier).\n",
    "For example, you could compute a hash of each instance’s identifier and put that instance in the test set if the hash is lower than or equal to 20% of the maximum hash value. This ensures that the test set will remain consistent across multiple runs, even if you refresh the dataset. The new test set will contain 20% of the new instances, but it will not contain any instance that was previously in the training set.\n",
    "Since parcelid is a unique identifier for each instance in the housing dataset, we can use it to implement the hash strategy outlined above."
   ]
  },
  {
   "cell_type": "code",
   "execution_count": null,
   "id": "58850222",
   "metadata": {},
   "outputs": [],
   "source": []
  }
 ],
 "metadata": {
  "kernelspec": {
   "display_name": "Python 3 (ipykernel)",
   "language": "python",
   "name": "python3"
  },
  "language_info": {
   "codemirror_mode": {
    "name": "ipython",
    "version": 3
   },
   "file_extension": ".py",
   "mimetype": "text/x-python",
   "name": "python",
   "nbconvert_exporter": "python",
   "pygments_lexer": "ipython3",
   "version": "3.9.12"
  }
 },
 "nbformat": 4,
 "nbformat_minor": 5
}
